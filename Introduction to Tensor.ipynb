{
 "cells": [
  {
   "cell_type": "code",
   "execution_count": 1,
   "id": "e770f259-7544-4c30-87ff-c9eccc3080d3",
   "metadata": {},
   "outputs": [],
   "source": [
    "import pandas as pd\n",
    "import torch"
   ]
  },
  {
   "cell_type": "code",
   "execution_count": 2,
   "id": "f3fee692-3254-4ec1-a309-f804828aeaec",
   "metadata": {},
   "outputs": [],
   "source": [
    "train_df = pd.read_csv('train.csv')\n",
    "test_df = pd.read_csv('test.csv')\n",
    "\n",
    "train_values = train_df.values\n",
    "test_values = test_df.values\n",
    "\n",
    "trainX = torch.tensor(train_values[:, :-1], dtype=torch.float64)\n",
    "trainY = torch.tensor(train_values[:, -1:], dtype=torch.float64)\n",
    "testX = torch.tensor(test_values[:, :-1], dtype=torch.float64)\n",
    "testY = torch.tensor(test_values[:, -1:], dtype=torch.float64)"
   ]
  },
  {
   "cell_type": "code",
   "execution_count": 3,
   "id": "31f27afc-ca9f-4b83-b34f-970f411b6b4f",
   "metadata": {},
   "outputs": [
    {
     "data": {
      "text/plain": [
       "83520"
      ]
     },
     "execution_count": 3,
     "metadata": {},
     "output_type": "execute_result"
    }
   ],
   "source": [
    "#q1\n",
    "bytes = trainX.element_size()\n",
    "elements = trainX.nelement() \n",
    "total = bytes * elements\n",
    "total"
   ]
  },
  {
   "cell_type": "code",
   "execution_count": 4,
   "id": "981de18e-3bdf-4e10-b3bc-c6e7de3a1128",
   "metadata": {},
   "outputs": [
    {
     "data": {
      "text/plain": [
       "0.0"
      ]
     },
     "execution_count": 4,
     "metadata": {},
     "output_type": "execute_result"
    }
   ],
   "source": [
    "#q2\n",
    "trainX_float16 = trainX.to(torch.float16)\n",
    "trainX_float64 = trainX_float16.to(torch.float64)\n",
    "\n",
    "difference = torch.abs(trainX - trainX_float64)\n",
    "max_difference = torch.max(difference).item()\n",
    "max_difference"
   ]
  },
  {
   "cell_type": "code",
   "execution_count": 5,
   "id": "5e7d0001-30f7-4499-bcbd-43fc9ecdb10a",
   "metadata": {},
   "outputs": [
    {
     "data": {
      "text/plain": [
       "False"
      ]
     },
     "execution_count": 5,
     "metadata": {},
     "output_type": "execute_result"
    }
   ],
   "source": [
    "#q3\n",
    "cuda = torch.cuda.is_available()\n",
    "cuda"
   ]
  },
  {
   "cell_type": "code",
   "execution_count": 6,
   "id": "5fdddcd7-2597-43ec-bbf5-2bb0fd74d3e6",
   "metadata": {},
   "outputs": [],
   "source": [
    "coef = torch.tensor([\n",
    "    [0.0040],\n",
    "    [0.0040],\n",
    "    [0.0040],\n",
    "    [0.0040],\n",
    "    [0.0040],\n",
    "    [0.0040],\n",
    "    [0.0300],\n",
    "    [0.0300],\n",
    "    [0.0300],\n",
    "    [0.0300]\n",
    "], dtype=torch.float64)"
   ]
  },
  {
   "cell_type": "code",
   "execution_count": 7,
   "id": "78954287-37a5-48e8-b82e-03aed6177696",
   "metadata": {},
   "outputs": [
    {
     "data": {
      "text/plain": [
       "9.844"
      ]
     },
     "execution_count": 7,
     "metadata": {},
     "output_type": "execute_result"
    }
   ],
   "source": [
    "#q4\n",
    "predicted_deaths = (testX[0] * coef.squeeze()).sum().item()\n",
    "predicted_deaths"
   ]
  },
  {
   "cell_type": "code",
   "execution_count": 8,
   "id": "c56fd290-f189-479e-be19-6ee5ad40edcf",
   "metadata": {},
   "outputs": [
    {
     "data": {
      "text/plain": [
       "12.073632183908048"
      ]
     },
     "execution_count": 8,
     "metadata": {},
     "output_type": "execute_result"
    }
   ],
   "source": [
    "#q5\n",
    "predicted_deaths_avg = (testX @ coef).mean().item()\n",
    "predicted_deaths_avg"
   ]
  },
  {
   "cell_type": "code",
   "execution_count": 9,
   "id": "5f84a659-2a6d-434c-8f09-3fce5e56fbf7",
   "metadata": {},
   "outputs": [
    {
     "data": {
      "text/plain": [
       "19.0"
      ]
     },
     "execution_count": 9,
     "metadata": {},
     "output_type": "execute_result"
    }
   ],
   "source": [
    "#q6\n",
    "x = torch.tensor(0.0, requires_grad=True)\n",
    "y = x**2 - 8*x + 19\n",
    "float(y)"
   ]
  },
  {
   "cell_type": "code",
   "execution_count": 10,
   "id": "b19a8970-20dd-4a73-b205-13c9ef3508d0",
   "metadata": {},
   "outputs": [
    {
     "data": {
      "text/plain": [
       "3.9999940395355225"
      ]
     },
     "execution_count": 10,
     "metadata": {},
     "output_type": "execute_result"
    }
   ],
   "source": [
    "#q7\n",
    "x = torch.tensor([0.0], requires_grad=True)\n",
    "optimizer = torch.optim.SGD([x], lr=0.01)\n",
    "\n",
    "num_iterations = 1000\n",
    "for _ in range(num_iterations):\n",
    "    y = x**2 - 8*x + 19\n",
    "    optimizer.zero_grad()\n",
    "    y.backward()\n",
    "    optimizer.step()\n",
    "\n",
    "optimized_x = x.detach().item()\n",
    "optimized_x"
   ]
  },
  {
   "cell_type": "code",
   "execution_count": 11,
   "id": "1d91ef25-f84d-4020-9170-b4a643806d1a",
   "metadata": {},
   "outputs": [
    {
     "data": {
      "text/plain": [
       "197.8007662835249"
      ]
     },
     "execution_count": 11,
     "metadata": {},
     "output_type": "execute_result"
    }
   ],
   "source": [
    "#q8\n",
    "num_features = trainX.size(1)\n",
    "coef = torch.zeros(num_features, 1, dtype=trainX.dtype)\n",
    "predictions = trainX @ coef\n",
    "mse = torch.nn.functional.mse_loss(predictions, trainY)\n",
    "mse.item()"
   ]
  },
  {
   "cell_type": "code",
   "execution_count": 12,
   "id": "ba5f910c-cfb4-411c-846b-320c111a5776",
   "metadata": {},
   "outputs": [],
   "source": [
    "ds = torch.utils.data.TensorDataset(trainX, trainY)\n",
    "dl = torch.utils.data.DataLoader(ds, batch_size=50, shuffle=True)"
   ]
  },
  {
   "cell_type": "code",
   "execution_count": 13,
   "id": "1fa8b927-9437-42de-8dae-dcff72244ac4",
   "metadata": {},
   "outputs": [
    {
     "data": {
      "text/plain": [
       "26.8113940147193"
      ]
     },
     "execution_count": 13,
     "metadata": {},
     "output_type": "execute_result"
    }
   ],
   "source": [
    "#q9\n",
    "torch.manual_seed(544)\n",
    "coef = torch.zeros(num_features, 1, dtype=trainX.dtype, requires_grad=True)\n",
    "optimizer = torch.optim.SGD([coef], lr=0.000002)\n",
    "loss_fn = torch.nn.MSELoss()\n",
    "\n",
    "epochs = 500\n",
    "for epoch in range(epochs):\n",
    "    for batch_x, batch_y in dl:\n",
    "        predictions = batch_x @ coef\n",
    "        loss = loss_fn(predictions, batch_y)\n",
    "        optimizer.zero_grad()\n",
    "        loss.backward()\n",
    "        optimizer.step()\n",
    "\n",
    "predictions = trainX @ coef\n",
    "mse_train = loss_fn(predictions, trainY).item()\n",
    "mse_train"
   ]
  },
  {
   "cell_type": "code",
   "execution_count": 14,
   "id": "558ffa8d-b4c7-48d9-9af2-21dbb233cbca",
   "metadata": {},
   "outputs": [
    {
     "data": {
      "text/plain": [
       "29.05854692548551"
      ]
     },
     "execution_count": 14,
     "metadata": {},
     "output_type": "execute_result"
    }
   ],
   "source": [
    "#q10\n",
    "predictions = testX @ coef\n",
    "mse_test = loss_fn(predictions, testY).item()\n",
    "mse_test"
   ]
  }
 ],
 "metadata": {
  "kernelspec": {
   "display_name": "Python 3 (ipykernel)",
   "language": "python",
   "name": "python3"
  },
  "language_info": {
   "codemirror_mode": {
    "name": "ipython",
    "version": 3
   },
   "file_extension": ".py",
   "mimetype": "text/x-python",
   "name": "python",
   "nbconvert_exporter": "python",
   "pygments_lexer": "ipython3",
   "version": "3.11.6"
  }
 },
 "nbformat": 4,
 "nbformat_minor": 5
}
