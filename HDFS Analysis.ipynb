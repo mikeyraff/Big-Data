{
 "cells": [
  {
   "cell_type": "code",
   "execution_count": 4,
   "id": "a3ade1d1-f753-46bf-890b-f76525338cad",
   "metadata": {
    "scrolled": true
   },
   "outputs": [
    {
     "name": "stdout",
     "output_type": "stream",
     "text": [
      "Configured Capacity: 51642105856 (48.10 GB)\n",
      "Present Capacity: 31292227584 (29.14 GB)\n",
      "DFS Remaining: 31292178432 (29.14 GB)\n",
      "DFS Used: 49152 (48 KB)\n",
      "DFS Used%: 0.00%\n",
      "Replicated Blocks:\n",
      "\tUnder replicated blocks: 0\n",
      "\tBlocks with corrupt replicas: 0\n",
      "\tMissing blocks: 0\n",
      "\tMissing blocks (with replication factor 1): 0\n",
      "\tLow redundancy blocks with highest priority to recover: 0\n",
      "\tPending deletion blocks: 0\n",
      "Erasure Coded Block Groups: \n",
      "\tLow redundancy block groups: 0\n",
      "\tBlock groups with corrupt internal blocks: 0\n",
      "\tMissing block groups: 0\n",
      "\tLow redundancy blocks with highest priority to recover: 0\n",
      "\tPending deletion blocks: 0\n",
      "\n",
      "-------------------------------------------------\n",
      "Live datanodes (2):\n",
      "\n",
      "Name: 172.20.0.3:9866 (project-4-p4-raffanti-dn-1.project-4-p4-raffanti_default)\n",
      "Hostname: a5564c2141ff\n",
      "Decommission Status : Normal\n",
      "Configured Capacity: 25821052928 (24.05 GB)\n",
      "DFS Used: 24576 (24 KB)\n",
      "Non DFS Used: 10158178304 (9.46 GB)\n",
      "DFS Remaining: 15646072832 (14.57 GB)\n",
      "DFS Used%: 0.00%\n",
      "DFS Remaining%: 60.59%\n",
      "Configured Cache Capacity: 0 (0 B)\n",
      "Cache Used: 0 (0 B)\n",
      "Cache Remaining: 0 (0 B)\n",
      "Cache Used%: 100.00%\n",
      "Cache Remaining%: 0.00%\n",
      "Xceivers: 0\n",
      "Last contact: Tue Mar 19 17:02:57 GMT 2024\n",
      "Last Block Report: Tue Mar 19 17:00:36 GMT 2024\n",
      "Num of Blocks: 0\n",
      "\n",
      "\n",
      "Name: 172.20.0.5:9866 (project-4-p4-raffanti-dn-2.project-4-p4-raffanti_default)\n",
      "Hostname: ff1da0dcff11\n",
      "Decommission Status : Normal\n",
      "Configured Capacity: 25821052928 (24.05 GB)\n",
      "DFS Used: 24576 (24 KB)\n",
      "Non DFS Used: 10158178304 (9.46 GB)\n",
      "DFS Remaining: 15646072832 (14.57 GB)\n",
      "DFS Used%: 0.00%\n",
      "DFS Remaining%: 60.59%\n",
      "Configured Cache Capacity: 0 (0 B)\n",
      "Cache Used: 0 (0 B)\n",
      "Cache Remaining: 0 (0 B)\n",
      "Cache Used%: 100.00%\n",
      "Cache Remaining%: 0.00%\n",
      "Xceivers: 0\n",
      "Last contact: Tue Mar 19 17:02:57 GMT 2024\n",
      "Last Block Report: Tue Mar 19 17:00:36 GMT 2024\n",
      "Num of Blocks: 0\n",
      "\n",
      "\n"
     ]
    }
   ],
   "source": [
    "#q1\n",
    "!hdfs dfsadmin -fs hdfs://boss:9000 -report"
   ]
  },
  {
   "cell_type": "code",
   "execution_count": 5,
   "id": "0a591c27-e716-4ca8-809a-0b1cdb75c22e",
   "metadata": {},
   "outputs": [],
   "source": [
    "!hdfs dfs -rm -f hdfs://boss:9000/single.csv\n",
    "!hdfs dfs -rm -f hdfs://boss:9000/double.csv"
   ]
  },
  {
   "cell_type": "code",
   "execution_count": 6,
   "id": "64789ca2-a953-4880-b95e-5055e53a158f",
   "metadata": {
    "scrolled": true
   },
   "outputs": [],
   "source": [
    "!hdfs dfs -D dfs.block.size=1048576 -D dfs.replication=1 -cp hdma-wi-2021.csv hdfs://boss:9000/single.csv\n",
    "!hdfs dfs -D dfs.block.size=1048576 -D dfs.replication=2 -cp hdma-wi-2021.csv hdfs://boss:9000/double.csv"
   ]
  },
  {
   "cell_type": "code",
   "execution_count": 7,
   "id": "f6eec967-af17-43df-a657-4f598d0b9703",
   "metadata": {},
   "outputs": [
    {
     "name": "stdout",
     "output_type": "stream",
     "text": [
      "166.8 M  166.8 M  hdfs://boss:9000/single.csv\n",
      "166.8 M  333.7 M  hdfs://boss:9000/double.csv\n"
     ]
    }
   ],
   "source": [
    "#q2\n",
    "!hdfs dfs -du -h hdfs://boss:9000/single.csv\n",
    "!hdfs dfs -du -h hdfs://boss:9000/double.csv"
   ]
  },
  {
   "cell_type": "code",
   "execution_count": 8,
   "id": "698a8a79-3faa-46d0-8f80-ca513dfaa475",
   "metadata": {},
   "outputs": [
    {
     "data": {
      "text/plain": [
       "b'{\"FileStatus\":{\"accessTime\":1710867792730,\"blockSize\":1048576,\"childrenNum\":0,\"fileId\":16386,\"group\":\"supergroup\",\"length\":174944099,\"modificationTime\":1710867798021,\"owner\":\"root\",\"pathSuffix\":\"\",\"permission\":\"644\",\"replication\":1,\"storagePolicy\":0,\"type\":\"FILE\"}}'"
      ]
     },
     "execution_count": 8,
     "metadata": {},
     "output_type": "execute_result"
    }
   ],
   "source": [
    "import requests\n",
    "fileStat = requests.get(\"http://boss:9870/webhdfs/v1/single.csv?op=GETFILESTATUS&offset=0&length=200&noredirect=true\")\n",
    "fileStat.raise_for_status\n",
    "fileStat.content"
   ]
  },
  {
   "cell_type": "code",
   "execution_count": 10,
   "id": "eed427be-de18-4da0-9c75-610967e1f981",
   "metadata": {},
   "outputs": [
    {
     "data": {
      "text/plain": [
       "{'FileStatus': {'accessTime': 1710867792730,\n",
       "  'blockSize': 1048576,\n",
       "  'childrenNum': 0,\n",
       "  'fileId': 16386,\n",
       "  'group': 'supergroup',\n",
       "  'length': 174944099,\n",
       "  'modificationTime': 1710867798021,\n",
       "  'owner': 'root',\n",
       "  'pathSuffix': '',\n",
       "  'permission': '644',\n",
       "  'replication': 1,\n",
       "  'storagePolicy': 0,\n",
       "  'type': 'FILE'}}"
      ]
     },
     "execution_count": 10,
     "metadata": {},
     "output_type": "execute_result"
    }
   ],
   "source": [
    "#q3\n",
    "fileStat.json()"
   ]
  },
  {
   "cell_type": "code",
   "execution_count": 11,
   "id": "b9e34461-7a6a-44fd-9b9b-83be6934dac5",
   "metadata": {},
   "outputs": [
    {
     "data": {
      "text/plain": [
       "b'{\"Location\":\"http://a5564c2141ff:9864/webhdfs/v1/single.csv?op=OPEN&namenoderpcaddress=boss:9000&offset=0\"}'"
      ]
     },
     "execution_count": 11,
     "metadata": {},
     "output_type": "execute_result"
    }
   ],
   "source": [
    "r = requests.get(\"http://boss:9870/webhdfs/v1/single.csv?op=OPEN&offset=0&noredirect=true\")\n",
    "r.content"
   ]
  },
  {
   "cell_type": "code",
   "execution_count": 12,
   "id": "a06b3c7a-b113-4a8a-bcf2-03c1f2dc2998",
   "metadata": {},
   "outputs": [
    {
     "data": {
      "text/plain": [
       "'http://a5564c2141ff:9864/webhdfs/v1/single.csv?op=OPEN&namenoderpcaddress=boss:9000&offset=0'"
      ]
     },
     "execution_count": 12,
     "metadata": {},
     "output_type": "execute_result"
    }
   ],
   "source": [
    "#q4\n",
    "r.json()[\"Location\"]"
   ]
  },
  {
   "cell_type": "code",
   "execution_count": 13,
   "id": "05d227e7-f4e8-4bcb-95ae-9a56ae7f7ce0",
   "metadata": {},
   "outputs": [],
   "source": [
    "file_status = fileStat.json()\n",
    "file_length = file_status['FileStatus']['length']\n",
    "block_size = file_status['FileStatus']['blockSize']\n",
    "total_blocks = -(-file_length // block_size)  # Ceil division to get total blocks\n",
    "\n",
    "container_block_count = {}\n",
    "\n",
    "# Loop through each block to extract container IDs\n",
    "for block_id in range(total_blocks):\n",
    "    block_url = f\"http://boss:9870/webhdfs/v1/single.csv?op=OPEN&offset={block_id * block_size}&noredirect=true\"\n",
    "\n",
    "    response = requests.get(block_url)\n",
    "    location = response.json()\n",
    "\n",
    "    block_location = location['Location']\n",
    "    container_id = block_location.split('/')[2]\n",
    "\n",
    "    if container_id in container_block_count:\n",
    "        container_block_count[container_id] += 1\n",
    "    else:\n",
    "        container_block_count[container_id] = 1"
   ]
  },
  {
   "cell_type": "code",
   "execution_count": 14,
   "id": "e7f4b0a8-8ddd-40fc-a238-10358b5507aa",
   "metadata": {},
   "outputs": [
    {
     "data": {
      "text/plain": [
       "{'a5564c2141ff:9864': 79, 'ff1da0dcff11:9864': 88}"
      ]
     },
     "execution_count": 14,
     "metadata": {},
     "output_type": "execute_result"
    }
   ],
   "source": [
    "#q5\n",
    "container_block_count"
   ]
  },
  {
   "cell_type": "code",
   "execution_count": 15,
   "id": "a73b005a-1f26-4a6a-83b4-237d46f64f45",
   "metadata": {},
   "outputs": [
    {
     "name": "stderr",
     "output_type": "stream",
     "text": [
      "2024-03-19 17:05:09,689 WARN util.NativeCodeLoader: Unable to load native-hadoop library for your platform... using builtin-java classes where applicable\n"
     ]
    }
   ],
   "source": [
    "import pyarrow as pa\n",
    "import pyarrow.fs\n",
    "hdfs = pa.fs.HadoopFileSystem(\"boss\", 9000)"
   ]
  },
  {
   "cell_type": "code",
   "execution_count": 16,
   "id": "2c41583b-e85d-449a-8a6b-40d85edbe882",
   "metadata": {},
   "outputs": [],
   "source": [
    "with hdfs.open_input_file(\"/single.csv\") as f:\n",
    "    firstTen = f.read_at(10, 0)"
   ]
  },
  {
   "cell_type": "code",
   "execution_count": 17,
   "id": "cac20b6d-55ab-47dc-bab4-02da52aca7f0",
   "metadata": {},
   "outputs": [
    {
     "data": {
      "text/plain": [
       "b'activity_y'"
      ]
     },
     "execution_count": 17,
     "metadata": {},
     "output_type": "execute_result"
    }
   ],
   "source": [
    "#q6\n",
    "firstTen"
   ]
  },
  {
   "cell_type": "code",
   "execution_count": 18,
   "id": "2c99c11a-cd3b-418d-8409-39387be35746",
   "metadata": {},
   "outputs": [],
   "source": [
    "import io\n",
    "\n",
    "count = 0\n",
    "strToSearch = \"Single Family\"\n",
    "with hdfs.open_input_file(\"hdfs://boss:9000/single.csv\") as file:\n",
    "    reader = io.TextIOWrapper(io.BufferedReader(file))\n",
    "    for line in reader:\n",
    "        if not line:\n",
    "            break\n",
    "        if strToSearch in line:\n",
    "            count += 1"
   ]
  },
  {
   "cell_type": "code",
   "execution_count": 19,
   "id": "585dbb38-5f24-482c-bb3d-1b9565f90e81",
   "metadata": {},
   "outputs": [
    {
     "data": {
      "text/plain": [
       "444874"
      ]
     },
     "execution_count": 19,
     "metadata": {},
     "output_type": "execute_result"
    }
   ],
   "source": [
    "#q7\n",
    "count"
   ]
  }
 ],
 "metadata": {
  "kernelspec": {
   "display_name": "Python 3 (ipykernel)",
   "language": "python",
   "name": "python3"
  },
  "language_info": {
   "codemirror_mode": {
    "name": "ipython",
    "version": 3
   },
   "file_extension": ".py",
   "mimetype": "text/x-python",
   "name": "python",
   "nbconvert_exporter": "python",
   "pygments_lexer": "ipython3",
   "version": "3.10.12"
  }
 },
 "nbformat": 4,
 "nbformat_minor": 5
}
