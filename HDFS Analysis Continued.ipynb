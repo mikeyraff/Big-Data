{
 "cells": [
  {
   "cell_type": "code",
   "execution_count": 3,
   "id": "e2954fae-449f-4715-9d0d-6e550f836203",
   "metadata": {},
   "outputs": [
    {
     "name": "stdout",
     "output_type": "stream",
     "text": [
      "Configured Capacity: 51642105856 (48.10 GB)\n",
      "Present Capacity: 30757899388 (28.65 GB)\n",
      "DFS Remaining: 30228914176 (28.15 GB)\n",
      "DFS Used: 528985212 (504.48 MB)\n",
      "DFS Used%: 1.72%\n",
      "Replicated Blocks:\n",
      "\tUnder replicated blocks: 0\n",
      "\tBlocks with corrupt replicas: 0\n",
      "\tMissing blocks: 0\n",
      "\tMissing blocks (with replication factor 1): 0\n",
      "\tLow redundancy blocks with highest priority to recover: 0\n",
      "\tPending deletion blocks: 0\n",
      "Erasure Coded Block Groups: \n",
      "\tLow redundancy block groups: 0\n",
      "\tBlock groups with corrupt internal blocks: 0\n",
      "\tMissing block groups: 0\n",
      "\tLow redundancy blocks with highest priority to recover: 0\n",
      "\tPending deletion blocks: 0\n",
      "\n",
      "-------------------------------------------------\n",
      "Live datanodes (1):\n",
      "\n",
      "Name: 172.20.0.3:9866 (project-4-p4-raffanti-dn-1.project-4-p4-raffanti_default)\n",
      "Hostname: a5564c2141ff\n",
      "Decommission Status : Normal\n",
      "Configured Capacity: 25821052928 (24.05 GB)\n",
      "DFS Used: 259821821 (247.79 MB)\n",
      "Non DFS Used: 10430013187 (9.71 GB)\n",
      "DFS Remaining: 15114440704 (14.08 GB)\n",
      "DFS Used%: 1.01%\n",
      "DFS Remaining%: 58.54%\n",
      "Configured Cache Capacity: 0 (0 B)\n",
      "Cache Used: 0 (0 B)\n",
      "Cache Remaining: 0 (0 B)\n",
      "Cache Used%: 100.00%\n",
      "Cache Remaining%: 0.00%\n",
      "Xceivers: 0\n",
      "Last contact: Tue Mar 19 17:09:30 GMT 2024\n",
      "Last Block Report: Tue Mar 19 17:00:36 GMT 2024\n",
      "Num of Blocks: 246\n",
      "\n",
      "\n",
      "Dead datanodes (1):\n",
      "\n",
      "Name: 172.20.0.5:9866 (172.20.0.5)\n",
      "Hostname: ff1da0dcff11\n",
      "Decommission Status : Normal\n",
      "Configured Capacity: 25821052928 (24.05 GB)\n",
      "DFS Used: 269163391 (256.69 MB)\n",
      "Non DFS Used: 10420638849 (9.70 GB)\n",
      "DFS Remaining: 15114473472 (14.08 GB)\n",
      "DFS Used%: 1.04%\n",
      "DFS Remaining%: 58.54%\n",
      "Configured Cache Capacity: 0 (0 B)\n",
      "Cache Used: 0 (0 B)\n",
      "Cache Remaining: 0 (0 B)\n",
      "Cache Used%: 100.00%\n",
      "Cache Remaining%: 0.00%\n",
      "Xceivers: 0\n",
      "Last contact: Tue Mar 19 17:07:54 GMT 2024\n",
      "Last Block Report: Tue Mar 19 17:00:36 GMT 2024\n",
      "Num of Blocks: 255\n",
      "\n",
      "\n"
     ]
    }
   ],
   "source": [
    "#q8\n",
    "!hdfs dfsadmin -fs hdfs://boss:9000 -report"
   ]
  },
  {
   "cell_type": "code",
   "execution_count": 2,
   "id": "4cf863aa-2b93-4cca-a133-5ee36dd6f74b",
   "metadata": {},
   "outputs": [],
   "source": [
    "import time\n",
    "time.sleep(30)"
   ]
  },
  {
   "cell_type": "code",
   "execution_count": 4,
   "id": "68e00037-3809-43ea-b4e0-85c9df5405c1",
   "metadata": {},
   "outputs": [],
   "source": [
    "import requests\n",
    "fileStat = requests.get(\"http://boss:9870/webhdfs/v1/single.csv?op=GETFILESTATUS&offset=0&length=200&noredirect=true\")\n",
    "file_status = fileStat.json()\n",
    "file_length = file_status['FileStatus']['length']\n",
    "block_size = file_status['FileStatus']['blockSize']\n",
    "total_blocks = -(-file_length // block_size)  # Ceil division to get total blocks\n",
    "\n",
    "container_block_count = {'lost': 0}\n",
    "\n",
    "# Loop through each block to extract container IDs\n",
    "for block_id in range(total_blocks):\n",
    "    block_url = f\"http://boss:9870/webhdfs/v1/single.csv?op=OPEN&offset={block_id * block_size}&noredirect=true\"\n",
    "\n",
    "    response = requests.get(block_url)\n",
    "    location = response.json()\n",
    "    if response.status_code == 403:\n",
    "        container_block_count['lost'] += 1\n",
    "    else:\n",
    "        block_location = location['Location']\n",
    "        container_id = block_location.split('/')[2]\n",
    "        if container_id in container_block_count:\n",
    "            container_block_count[container_id] += 1\n",
    "        else:\n",
    "            container_block_count[container_id] = 1"
   ]
  },
  {
   "cell_type": "code",
   "execution_count": 5,
   "id": "cb571b0e-2651-4a68-abb4-5a40ec215de0",
   "metadata": {},
   "outputs": [
    {
     "data": {
      "text/plain": [
       "{'lost': 88, 'a5564c2141ff:9864': 79}"
      ]
     },
     "execution_count": 5,
     "metadata": {},
     "output_type": "execute_result"
    }
   ],
   "source": [
    "#q9\n",
    "container_block_count"
   ]
  },
  {
   "cell_type": "code",
   "execution_count": 6,
   "id": "16be7155-b12b-4fa6-b435-d67ce1ca6c31",
   "metadata": {},
   "outputs": [],
   "source": [
    "total_single_family_count = 0\n",
    "\n",
    "for container_id, count in container_block_count.items():\n",
    "    if count > 0 and container_id != 'lost':\n",
    "        for block_id in range(count):\n",
    "            block_url = f\"http://boss:9870/webhdfs/v1/single.csv?offset={block_id * block_size}&length={block_size}&op=OPEN\"\n",
    "            response = requests.get(block_url)\n",
    "            block_content = response.content.decode('utf-8')\n",
    "\n",
    "            total_single_family_count += block_content.count(\"Single Family\")"
   ]
  },
  {
   "cell_type": "code",
   "execution_count": 7,
   "id": "aa66b19b-bbab-4bfb-b4a1-9a015832b3ab",
   "metadata": {},
   "outputs": [
    {
     "data": {
      "text/plain": [
       "101076"
      ]
     },
     "execution_count": 7,
     "metadata": {},
     "output_type": "execute_result"
    }
   ],
   "source": [
    "#q10\n",
    "total_single_family_count"
   ]
  }
 ],
 "metadata": {
  "kernelspec": {
   "display_name": "Python 3 (ipykernel)",
   "language": "python",
   "name": "python3"
  },
  "language_info": {
   "codemirror_mode": {
    "name": "ipython",
    "version": 3
   },
   "file_extension": ".py",
   "mimetype": "text/x-python",
   "name": "python",
   "nbconvert_exporter": "python",
   "pygments_lexer": "ipython3",
   "version": "3.10.12"
  }
 },
 "nbformat": 4,
 "nbformat_minor": 5
}
