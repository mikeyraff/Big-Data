{
 "cells": [
  {
   "cell_type": "code",
   "execution_count": 1,
   "id": "c8c8f380-64d7-4a0c-a9e9-a1facd7cc5f4",
   "metadata": {},
   "outputs": [],
   "source": [
    "from google.cloud import bigquery\n",
    "bq = bigquery.Client()"
   ]
  },
  {
   "cell_type": "code",
   "execution_count": 2,
   "id": "ade1b494-3832-4038-95da-9ded909a4ace",
   "metadata": {},
   "outputs": [
    {
     "data": {
      "text/html": [
       "<div>\n",
       "<style scoped>\n",
       "    .dataframe tbody tr th:only-of-type {\n",
       "        vertical-align: middle;\n",
       "    }\n",
       "\n",
       "    .dataframe tbody tr th {\n",
       "        vertical-align: top;\n",
       "    }\n",
       "\n",
       "    .dataframe thead th {\n",
       "        text-align: right;\n",
       "    }\n",
       "</style>\n",
       "<table border=\"1\" class=\"dataframe\">\n",
       "  <thead>\n",
       "    <tr style=\"text-align: right;\">\n",
       "      <th></th>\n",
       "      <th>num_rows</th>\n",
       "    </tr>\n",
       "  </thead>\n",
       "  <tbody>\n",
       "    <tr>\n",
       "      <th>0</th>\n",
       "      <td>3233</td>\n",
       "    </tr>\n",
       "  </tbody>\n",
       "</table>\n",
       "</div>"
      ],
      "text/plain": [
       "   num_rows\n",
       "0      3233"
      ]
     },
     "execution_count": 2,
     "metadata": {},
     "output_type": "execute_result"
    }
   ],
   "source": [
    "test = bq.query(\n",
    "\"\"\"\n",
    "select count(*) as num_rows \n",
    "from bigquery-public-data.geo_us_boundaries.counties\n",
    "\"\"\")\n",
    "test.to_dataframe()"
   ]
  },
  {
   "cell_type": "code",
   "execution_count": 3,
   "id": "6223934d-f3ba-41b0-991e-8b332600ea27",
   "metadata": {},
   "outputs": [],
   "source": [
    "q = \"\"\"\n",
    "SELECT (area_water_meters/(area_land_meters + area_water_meters)) * 100 AS water_area_percentage\n",
    "FROM bigquery-public-data.geo_us_boundaries.counties\n",
    "WHERE county_name = 'Dane'\n",
    "\"\"\"\n",
    "query_job = bq.query(q)\n",
    "result = query_job.to_dataframe()"
   ]
  },
  {
   "cell_type": "code",
   "execution_count": 4,
   "id": "93879630-ae60-4886-9534-86d99b71c5ff",
   "metadata": {},
   "outputs": [
    {
     "data": {
      "text/plain": [
       "3.314489915768649"
      ]
     },
     "execution_count": 4,
     "metadata": {},
     "output_type": "execute_result"
    }
   ],
   "source": [
    "#q1\n",
    "result['water_area_percentage'].iloc[0]"
   ]
  },
  {
   "cell_type": "code",
   "execution_count": 5,
   "id": "061ec911-3dbd-451c-a12e-56a80405f929",
   "metadata": {},
   "outputs": [],
   "source": [
    "q2 = \"\"\"\n",
    "SELECT \n",
    "    s.state, COUNT(*) as county_count\n",
    "FROM \n",
    "    `bigquery-public-data.geo_us_boundaries.counties` AS c\n",
    "JOIN \n",
    "    `bigquery-public-data.geo_us_boundaries.states` AS s\n",
    "ON \n",
    "    c.state_fips_code = s.state_fips_code\n",
    "GROUP BY \n",
    "    s.state\n",
    "ORDER BY \n",
    "    county_count DESC\n",
    "LIMIT 5\n",
    "\"\"\"\n",
    "# Run the query\n",
    "query_job = bq.query(q2)\n",
    "result = query_job.to_dataframe()"
   ]
  },
  {
   "cell_type": "code",
   "execution_count": 6,
   "id": "1c20f0d9-c9ba-4e6c-a788-73a6ac8f7cba",
   "metadata": {},
   "outputs": [
    {
     "data": {
      "text/plain": [
       "{'TX': 254, 'GA': 159, 'VA': 133, 'KY': 120, 'MO': 115}"
      ]
     },
     "execution_count": 6,
     "metadata": {},
     "output_type": "execute_result"
    }
   ],
   "source": [
    "#q2\n",
    "dict(zip(result.state, result.county_count))"
   ]
  },
  {
   "cell_type": "code",
   "execution_count": 7,
   "id": "5c739cc0-f333-41e1-8f4e-df3d920630c4",
   "metadata": {},
   "outputs": [],
   "source": [
    "iowaCost = 6.25\n",
    "job_config = bigquery.QueryJobConfig(use_query_cache=False)\n",
    "\n",
    "query_job_q1 = bq.query(q, job_config=job_config)\n",
    "query_job_q2 = bq.query(q2, job_config=job_config)\n",
    "\n",
    "cost_q1 = (query_job_q1.total_bytes_billed / (1024**4)) * iowaCost\n",
    "cost_q2 = (query_job_q2.total_bytes_billed / (1024**4)) * iowaCost\n",
    "\n",
    "cost_dict = {'q1': cost_q1, 'q2': cost_q2}"
   ]
  },
  {
   "cell_type": "code",
   "execution_count": 8,
   "id": "1028d3b8-cb04-4138-b8fd-60c754c6e3c6",
   "metadata": {},
   "outputs": [
    {
     "data": {
      "text/plain": [
       "{'q1': 5.9604644775390625e-05, 'q2': 0.00011920928955078125}"
      ]
     },
     "execution_count": 8,
     "metadata": {},
     "output_type": "execute_result"
    }
   ],
   "source": [
    "#q3\n",
    "cost_dict"
   ]
  },
  {
   "cell_type": "code",
   "execution_count": 9,
   "id": "059e9281-94db-4b27-9110-a8502f6ac648",
   "metadata": {},
   "outputs": [
    {
     "name": "stdout",
     "output_type": "stream",
     "text": [
      "Dataset cs544-s24-412418.p8 created.\n",
      "Table loaded successfully.\n"
     ]
    }
   ],
   "source": [
    "from google.cloud import bigquery\n",
    "from google.cloud.exceptions import Conflict\n",
    "\n",
    "bq = bigquery.Client()\n",
    "dataset_id = \"cs544-s24-412418.p8\"\n",
    "dataset = bigquery.Dataset(dataset_id)\n",
    "\n",
    "try:\n",
    "    dataset = bq.create_dataset(dataset, exists_ok=True)\n",
    "    print(\"Dataset {} created.\".format(dataset_id))\n",
    "except Conflict:\n",
    "    print(\"Dataset already exists.\")\n",
    "\n",
    "table_id = \"cs544-s24-412418.p8.hdma\"\n",
    "job_config = bigquery.LoadJobConfig(source_format=bigquery.SourceFormat.PARQUET)\n",
    "uri = \"gs://raffanti/hdma-wi-2021-split.parquet\"\n",
    "\n",
    "load_job = bq.load_table_from_uri(\n",
    "uri,\n",
    "table_id,\n",
    "job_config=job_config\n",
    ")\n",
    "\n",
    "load_job.result()\n",
    "print(\"Table loaded successfully.\")"
   ]
  },
  {
   "cell_type": "code",
   "execution_count": 10,
   "id": "31578523-eda4-4bc3-816e-c7bb01245caa",
   "metadata": {},
   "outputs": [
    {
     "data": {
      "text/plain": [
       "['p8']"
      ]
     },
     "execution_count": 10,
     "metadata": {},
     "output_type": "execute_result"
    }
   ],
   "source": [
    "#q4\n",
    "datasets = [ds.dataset_id for ds in bq.list_datasets()]\n",
    "datasets"
   ]
  },
  {
   "cell_type": "code",
   "execution_count": 11,
   "id": "197e0b07-10d1-46f6-8d60-9c2c6c08dc5b",
   "metadata": {},
   "outputs": [],
   "source": [
    "q5 = bq.query(\n",
    "\"\"\"\n",
    "SELECT\n",
    "  c.county_name,\n",
    "  COUNT(*) as loan_count\n",
    "FROM\n",
    "  `cs544-s24-412418.p8.hdma` h\n",
    "JOIN\n",
    "  `bigquery-public-data.geo_us_boundaries.counties` c\n",
    "ON\n",
    "  h.county_code = c.geo_id\n",
    "GROUP BY\n",
    "  c.county_name\n",
    "ORDER BY\n",
    "  loan_count DESC\n",
    "LIMIT 10;\n",
    "\"\"\")\n",
    "q5ans = q5.to_dataframe()"
   ]
  },
  {
   "cell_type": "code",
   "execution_count": 12,
   "id": "a1e5a2e5-4180-48d3-afbc-e0860f60b6bc",
   "metadata": {},
   "outputs": [
    {
     "data": {
      "text/plain": [
       "{'Milwaukee': 232850,\n",
       " 'Dane': 192785,\n",
       " 'Waukesha': 170795,\n",
       " 'Brown': 78075,\n",
       " 'Racine': 65035,\n",
       " 'Outagamie': 57615,\n",
       " 'Kenosha': 53720,\n",
       " 'Washington': 53630,\n",
       " 'Rock': 49170,\n",
       " 'Winnebago': 46550}"
      ]
     },
     "execution_count": 12,
     "metadata": {},
     "output_type": "execute_result"
    }
   ],
   "source": [
    "#q5\n",
    "dict(zip(q5ans.county_name, q5ans.loan_count))"
   ]
  },
  {
   "cell_type": "code",
   "execution_count": 13,
   "id": "fc1f9955-1dc8-4a54-885f-e1e0edf834a2",
   "metadata": {},
   "outputs": [],
   "source": [
    "url = \"https://docs.google.com/spreadsheets/d/1FfalqAWdzz01D1zIvBxsDWLW05-lvANWjjAj2vI4A04/\"\n",
    "\n",
    "external_config = bigquery.ExternalConfig(\"GOOGLE_SHEETS\")\n",
    "external_config.source_uris = [url]\n",
    "external_config.options.skip_leading_rows = 1\n",
    "external_config.autodetect = True\n",
    "\n",
    "table = bigquery.Table(\"cs544-s24-412418.p8.applications\")\n",
    "table.external_data_configuration = external_config\n",
    "\n",
    "table = bq.create_table(table, exists_ok=True)"
   ]
  },
  {
   "cell_type": "code",
   "execution_count": 14,
   "id": "65495162-5e9b-4868-8c87-794bb1d2a202",
   "metadata": {},
   "outputs": [],
   "source": [
    "q6 = bq.query(\n",
    "\"\"\"\n",
    "SELECT COUNT(*) as num_applications\n",
    "FROM `cs544-s24-412418.p8.applications`\n",
    "WHERE CAST(income AS STRING) = '100000'\n",
    "\"\"\")"
   ]
  },
  {
   "cell_type": "code",
   "execution_count": 15,
   "id": "df7a8d04-440a-47e1-a75e-67c327cf18d9",
   "metadata": {},
   "outputs": [
    {
     "data": {
      "text/plain": [
       "13"
      ]
     },
     "execution_count": 15,
     "metadata": {},
     "output_type": "execute_result"
    }
   ],
   "source": [
    "#q6\n",
    "q6.to_dataframe()['num_applications'][0]"
   ]
  },
  {
   "cell_type": "code",
   "execution_count": 16,
   "id": "db6c7fbf-7220-4773-a286-9f86cf793942",
   "metadata": {},
   "outputs": [],
   "source": [
    "q7 = bq.query(\n",
    "\"\"\"\n",
    "WITH spatial_join AS (\n",
    "  SELECT\n",
    "    h.*,\n",
    "    c.county_name\n",
    "  FROM\n",
    "    `cs544-s24-412418.p8.applications` h\n",
    "  JOIN\n",
    "    `bigquery-public-data.geo_us_boundaries.counties` c\n",
    "  ON\n",
    "    ST_WITHIN(ST_GEOGPOINT(h.longitude, h.latitude), c.county_geom)\n",
    "  WHERE\n",
    "    c.state_fips_code = '55'\n",
    ")\n",
    "\n",
    "SELECT\n",
    "  county_name,\n",
    "  COUNT(*) AS num_applications\n",
    "FROM\n",
    "  spatial_join\n",
    "GROUP BY\n",
    "  county_name;\n",
    "\n",
    "\"\"\")\n",
    "q7ans = q7.to_dataframe()"
   ]
  },
  {
   "cell_type": "code",
   "execution_count": 17,
   "id": "ef94b761-9374-4250-a301-819f377d25ac",
   "metadata": {},
   "outputs": [
    {
     "data": {
      "text/plain": [
       "{'Fond du Lac': 1,\n",
       " 'Dane': 17,\n",
       " 'Oneida': 3,\n",
       " 'Green Lake': 1,\n",
       " 'Door': 7,\n",
       " 'Walworth': 5,\n",
       " 'Columbia': 1,\n",
       " 'Jefferson': 2,\n",
       " 'Brown': 2,\n",
       " 'Bayfield': 1,\n",
       " 'Outagamie': 1,\n",
       " 'Sauk': 1,\n",
       " 'Juneau': 1,\n",
       " 'Douglas': 1,\n",
       " 'Marinette': 3,\n",
       " 'Florence': 1,\n",
       " 'Milwaukee': 4,\n",
       " 'Barron': 1,\n",
       " 'Monroe': 2,\n",
       " 'Kewaunee': 1,\n",
       " 'Sheboygan': 1,\n",
       " 'Winnebago': 1}"
      ]
     },
     "execution_count": 17,
     "metadata": {},
     "output_type": "execute_result"
    }
   ],
   "source": [
    "#q7\n",
    "dict(zip(q7ans.county_name, q7ans.num_applications))"
   ]
  },
  {
   "cell_type": "code",
   "execution_count": 18,
   "id": "8b465924-3d4a-45d1-b5dc-af3c3918476a",
   "metadata": {},
   "outputs": [],
   "source": [
    "evaluate_model_query = \"\"\"\n",
    "SELECT\n",
    "    mean_absolute_error\n",
    "FROM\n",
    "    ML.EVALUATE(MODEL `cs544-s24-412418.p8.machine`, (\n",
    "        SELECT \n",
    "            loan_amount,\n",
    "            income,\n",
    "            loan_term\n",
    "        FROM \n",
    "            `cs544-s24-412418.p8.hdma`\n",
    "        WHERE \n",
    "            dataset = 'test'\n",
    "    ))\n",
    "\"\"\"\n",
    "query_job = bq.query(evaluate_model_query)\n",
    "result = query_job.to_dataframe()"
   ]
  },
  {
   "cell_type": "code",
   "execution_count": 19,
   "id": "312e03d0-e599-4503-88d3-de6fef1d0f34",
   "metadata": {},
   "outputs": [
    {
     "data": {
      "text/plain": [
       "77312.06632498761"
      ]
     },
     "execution_count": 19,
     "metadata": {},
     "output_type": "execute_result"
    }
   ],
   "source": [
    "#q8\n",
    "result['mean_absolute_error'][0]"
   ]
  },
  {
   "cell_type": "code",
   "execution_count": 20,
   "id": "52b91270-373e-4a88-8a9e-3154640fc5bc",
   "metadata": {},
   "outputs": [],
   "source": [
    "get_weight_query = \"\"\"\n",
    "SELECT\n",
    "    processed_input,\n",
    "    weight\n",
    "FROM\n",
    "    ML.WEIGHTS(MODEL `cs544-s24-412418.p8.machine`)\n",
    "WHERE\n",
    "    processed_input = 'loan_term'\n",
    "\"\"\"\n",
    "query_job = bq.query(get_weight_query)\n",
    "result = query_job.to_dataframe()"
   ]
  },
  {
   "cell_type": "code",
   "execution_count": 21,
   "id": "d4254453-e2e0-42da-81d6-b3ea4c9c992c",
   "metadata": {},
   "outputs": [
    {
     "data": {
      "text/plain": [
       "380.24489177351376"
      ]
     },
     "execution_count": 21,
     "metadata": {},
     "output_type": "execute_result"
    }
   ],
   "source": [
    "#q9\n",
    "result['weight'].iloc[0] "
   ]
  },
  {
   "cell_type": "code",
   "execution_count": 22,
   "id": "ba50a279-36b0-4571-8ef1-fd4874fde2e4",
   "metadata": {},
   "outputs": [],
   "source": [
    "%load_ext google.cloud.bigquery"
   ]
  },
  {
   "cell_type": "code",
   "execution_count": 23,
   "id": "a5e490d7-9239-4d5a-9720-aae3bbfc4911",
   "metadata": {},
   "outputs": [
    {
     "data": {
      "application/vnd.jupyter.widget-view+json": {
       "model_id": "ab4c500cdeb744e3800908b328ea15c2",
       "version_major": 2,
       "version_minor": 0
      },
      "text/plain": [
       "Query is running:   0%|          |"
      ]
     },
     "metadata": {},
     "output_type": "display_data"
    },
    {
     "data": {
      "application/vnd.jupyter.widget-view+json": {
       "model_id": "24234e0cb81d40b9b78d66cb9e169e3e",
       "version_major": 2,
       "version_minor": 0
      },
      "text/plain": [
       "Downloading:   0%|          |"
      ]
     },
     "metadata": {},
     "output_type": "display_data"
    }
   ],
   "source": [
    "%%bigquery predictQuery\n",
    "SELECT *\n",
    "FROM\n",
    "  ML.PREDICT(MODEL `cs544-s24-412418.p8.machine`,\n",
    "    (\n",
    "    SELECT\n",
    "      loan_amount, income, 360 AS loan_term\n",
    "    FROM\n",
    "      `cs544-s24-412418.p8.applications` \n",
    "    ))"
   ]
  },
  {
   "cell_type": "code",
   "execution_count": 24,
   "id": "c4c3fa5b-4c13-4e94-b34d-97505f615ae7",
   "metadata": {},
   "outputs": [
    {
     "data": {
      "text/plain": [
       "0.5955056179775281"
      ]
     },
     "execution_count": 24,
     "metadata": {},
     "output_type": "execute_result"
    }
   ],
   "source": [
    "#q10\n",
    "q10 = (predictQuery['loan_amount'] > predictQuery['predicted_loan_amount']).sum()\n",
    "q10 / len(predictQuery)"
   ]
  }
 ],
 "metadata": {
  "kernelspec": {
   "display_name": "Python 3 (ipykernel)",
   "language": "python",
   "name": "python3"
  },
  "language_info": {
   "codemirror_mode": {
    "name": "ipython",
    "version": 3
   },
   "file_extension": ".py",
   "mimetype": "text/x-python",
   "name": "python",
   "nbconvert_exporter": "python",
   "pygments_lexer": "ipython3",
   "version": "3.10.12"
  }
 },
 "nbformat": 4,
 "nbformat_minor": 5
}
