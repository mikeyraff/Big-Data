{
 "cells": [
  {
   "cell_type": "code",
   "execution_count": 1,
   "id": "c67e2ef0-3fb2-4bf3-b60c-766d897d0393",
   "metadata": {},
   "outputs": [],
   "source": [
    "!hdfs dfs -D dfs.replication=1 -cp -f data/*.csv hdfs://nn:9000/"
   ]
  },
  {
   "cell_type": "code",
   "execution_count": 2,
   "id": "d5f64f95-317b-4d89-834f-1d209fa1e3e8",
   "metadata": {},
   "outputs": [
    {
     "name": "stderr",
     "output_type": "stream",
     "text": [
      "Setting default log level to \"WARN\".\n",
      "To adjust logging level use sc.setLogLevel(newLevel). For SparkR, use setLogLevel(newLevel).\n",
      "24/04/04 18:34:01 WARN NativeCodeLoader: Unable to load native-hadoop library for your platform... using builtin-java classes where applicable\n"
     ]
    }
   ],
   "source": [
    "from pyspark.sql import SparkSession\n",
    "spark = (SparkSession.builder.appName(\"cs544\")\n",
    "         .master(\"spark://boss:7077\")\n",
    "         .config(\"spark.executor.memory\", \"512M\")\n",
    "         .config(\"spark.sql.warehouse.dir\", \"hdfs://nn:9000/user/hive/warehouse\")\n",
    "         .enableHiveSupport()\n",
    "         .getOrCreate())"
   ]
  },
  {
   "cell_type": "code",
   "execution_count": 3,
   "id": "a320dfbd-8201-488a-9311-a2705bfae130",
   "metadata": {},
   "outputs": [
    {
     "name": "stderr",
     "output_type": "stream",
     "text": [
      "                                                                                \r"
     ]
    }
   ],
   "source": [
    "banks_df = spark.read.csv(\"hdfs://nn:9000/arid2017_to_lei_xref_csv.csv\", header=True, inferSchema=True)"
   ]
  },
  {
   "cell_type": "code",
   "execution_count": 4,
   "id": "88e79856-a26c-49f0-8687-45a0c01b6b0d",
   "metadata": {},
   "outputs": [
    {
     "name": "stderr",
     "output_type": "stream",
     "text": [
      "                                                                                \r"
     ]
    }
   ],
   "source": [
    "bankCount = banks_df.rdd.map(lambda row: row[0]).filter(lambda name: \"The\" in name and \"National\" in name).count()"
   ]
  },
  {
   "cell_type": "code",
   "execution_count": 5,
   "id": "8d4a9b68-d108-4d76-adb1-1f4a0a44f95d",
   "metadata": {},
   "outputs": [
    {
     "data": {
      "text/plain": [
       "106"
      ]
     },
     "execution_count": 5,
     "metadata": {},
     "output_type": "execute_result"
    }
   ],
   "source": [
    "#q1\n",
    "bankCount"
   ]
  },
  {
   "cell_type": "code",
   "execution_count": 6,
   "id": "aad354e8-0247-4228-8750-921d2cde5328",
   "metadata": {},
   "outputs": [
    {
     "name": "stderr",
     "output_type": "stream",
     "text": [
      "                                                                                \r"
     ]
    }
   ],
   "source": [
    "from pyspark.sql.functions import lower, col\n",
    "bankCount_2 = banks_df.filter(col(\"respondent_name\").contains(\"The\") & col(\"respondent_name\").contains(\"National\")).count()"
   ]
  },
  {
   "cell_type": "code",
   "execution_count": 7,
   "id": "0e350f11-6f9c-459c-a0d0-3363fffee3db",
   "metadata": {},
   "outputs": [
    {
     "data": {
      "text/plain": [
       "106"
      ]
     },
     "execution_count": 7,
     "metadata": {},
     "output_type": "execute_result"
    }
   ],
   "source": [
    "#q2\n",
    "bankCount_2"
   ]
  },
  {
   "cell_type": "code",
   "execution_count": 8,
   "id": "15a32ccc-c193-415e-8ff5-bd82c838a6bf",
   "metadata": {},
   "outputs": [
    {
     "name": "stderr",
     "output_type": "stream",
     "text": [
      "24/04/04 18:34:30 WARN HiveConf: HiveConf of name hive.stats.jdbc.timeout does not exist\n",
      "24/04/04 18:34:30 WARN HiveConf: HiveConf of name hive.stats.retries.wait does not exist\n",
      "24/04/04 18:34:33 WARN ObjectStore: Version information not found in metastore. hive.metastore.schema.verification is not enabled so recording the schema version 2.3.0\n",
      "24/04/04 18:34:33 WARN ObjectStore: setMetaStoreSchemaVersion called but recording version is disabled: version = 2.3.0, comment = Set by MetaStore UNKNOWN@172.23.0.3\n",
      "24/04/04 18:34:35 WARN ObjectStore: Failed to get database global_temp, returning NoSuchObjectException\n",
      "24/04/04 18:34:37 WARN SessionState: METASTORE_FILTER_HOOK will be ignored, since hive.security.authorization.manager is set to instance of HiveAuthorizerFactory.\n",
      "24/04/04 18:34:37 WARN HiveConf: HiveConf of name hive.internal.ss.authz.settings.applied.marker does not exist\n",
      "24/04/04 18:34:37 WARN HiveConf: HiveConf of name hive.stats.jdbc.timeout does not exist\n",
      "24/04/04 18:34:37 WARN HiveConf: HiveConf of name hive.stats.retries.wait does not exist\n"
     ]
    }
   ],
   "source": [
    "banks_df.write.saveAsTable(\"banks\", mode=\"overwrite\")\n",
    "banksSQL = spark.sql(\"SELECT COUNT(*) FROM banks WHERE respondent_name LIKE '%The%' AND respondent_name LIKE '%National%'\")"
   ]
  },
  {
   "cell_type": "code",
   "execution_count": 9,
   "id": "be19386a-6681-4827-bf60-7ae1810ff329",
   "metadata": {},
   "outputs": [
    {
     "name": "stderr",
     "output_type": "stream",
     "text": [
      "                                                                                \r"
     ]
    },
    {
     "data": {
      "text/plain": [
       "106"
      ]
     },
     "execution_count": 9,
     "metadata": {},
     "output_type": "execute_result"
    }
   ],
   "source": [
    "#q3\n",
    "banksSQL.collect()[0][0]"
   ]
  },
  {
   "cell_type": "code",
   "execution_count": 10,
   "id": "bf9d2b72-f923-4f84-adc6-7183d282bc0b",
   "metadata": {},
   "outputs": [
    {
     "name": "stderr",
     "output_type": "stream",
     "text": [
      "24/04/04 18:34:48 WARN SparkStringUtils: Truncated the string representation of a plan since it was too large. This behavior can be adjusted by setting 'spark.sql.debug.maxToStringFields'.\n",
      "                                                                                \r"
     ]
    }
   ],
   "source": [
    "loans = spark.read.csv(\"hdfs://nn:9000/hdma-wi-2021.csv\", header=True, inferSchema=True)\n",
    "loans.write.bucketBy(8, \"county_code\").saveAsTable(\"loans\", mode=\"overwrite\")"
   ]
  },
  {
   "cell_type": "code",
   "execution_count": 11,
   "id": "0ef42008-c8fa-4632-9f54-3e92282593ae",
   "metadata": {},
   "outputs": [],
   "source": [
    "views_to_create = [\"ethnicity\", \"race\", \"sex\", \"states\", \"counties\", \"tracts\", \"action_taken\",\n",
    "                   \"denial_reason\", \"loan_type\", \"loan_purpose\", \"preapproval\", \"property_type\"]\n",
    "\n",
    "for view_name in views_to_create:\n",
    "    csv_path = f\"hdfs://nn:9000/{view_name}.csv\"\n",
    "    view = spark.read.csv(csv_path, header=True, inferSchema=True)\n",
    "    view.createOrReplaceTempView(view_name)"
   ]
  },
  {
   "cell_type": "code",
   "execution_count": 12,
   "id": "ae56a23a-91df-4320-b29e-7367be91d561",
   "metadata": {},
   "outputs": [],
   "source": [
    "tables = spark.sql(\"SHOW TABLES\")\n",
    "tables_dict = {row['tableName']: row['isTemporary'] for row in tables.collect()}"
   ]
  },
  {
   "cell_type": "code",
   "execution_count": 13,
   "id": "a32baa5d-7441-4ec2-8398-5ee0e5471ed2",
   "metadata": {},
   "outputs": [
    {
     "data": {
      "text/plain": [
       "{'banks': False,\n",
       " 'loans': False,\n",
       " 'action_taken': True,\n",
       " 'counties': True,\n",
       " 'denial_reason': True,\n",
       " 'ethnicity': True,\n",
       " 'loan_purpose': True,\n",
       " 'loan_type': True,\n",
       " 'preapproval': True,\n",
       " 'property_type': True,\n",
       " 'race': True,\n",
       " 'sex': True,\n",
       " 'states': True,\n",
       " 'tracts': True}"
      ]
     },
     "execution_count": 13,
     "metadata": {},
     "output_type": "execute_result"
    }
   ],
   "source": [
    "#q4\n",
    "tables_dict"
   ]
  },
  {
   "cell_type": "code",
   "execution_count": 14,
   "id": "8cdb1392-226e-4fdd-80c8-21d935b52840",
   "metadata": {},
   "outputs": [],
   "source": [
    "banks = spark.table(\"banks\")\n",
    "loans = spark.table(\"loans\")\n",
    "joined_df = spark.sql(\"\"\"\n",
    "SELECT *\n",
    "FROM loans\n",
    "INNER JOIN banks ON loans.lei = banks.lei_2020\n",
    "\"\"\")"
   ]
  },
  {
   "cell_type": "code",
   "execution_count": 15,
   "id": "4ef21f40-2234-43d8-ae57-eeba49d64fa4",
   "metadata": {},
   "outputs": [
    {
     "name": "stderr",
     "output_type": "stream",
     "text": [
      "                                                                                \r"
     ]
    },
    {
     "data": {
      "text/plain": [
       "6"
      ]
     },
     "execution_count": 15,
     "metadata": {},
     "output_type": "execute_result"
    }
   ],
   "source": [
    "#q5\n",
    "joined_df.filter(col(\"respondent_name\").like(\"First National Bank\")).count()"
   ]
  },
  {
   "cell_type": "code",
   "execution_count": 16,
   "id": "e306e1e4-70f2-4c85-b73b-3e9d04a97fa5",
   "metadata": {},
   "outputs": [
    {
     "name": "stdout",
     "output_type": "stream",
     "text": [
      "== Physical Plan ==\n",
      "AdaptiveSparkPlan (7)\n",
      "+- BroadcastHashJoin Inner BuildRight (6)\n",
      "   :- Filter (2)\n",
      "   :  +- Scan parquet spark_catalog.default.loans (1)\n",
      "   +- BroadcastExchange (5)\n",
      "      +- Filter (4)\n",
      "         +- Scan parquet spark_catalog.default.banks (3)\n",
      "\n",
      "\n",
      "(1) Scan parquet spark_catalog.default.loans\n",
      "Output [99]: [activity_year#991, lei#992, derived_msa-md#993, state_code#994, county_code#995, census_tract#996, conforming_loan_limit#997, derived_loan_product_type#998, derived_dwelling_category#999, derived_ethnicity#1000, derived_race#1001, derived_sex#1002, action_taken#1003, purchaser_type#1004, preapproval#1005, loan_type#1006, loan_purpose#1007, lien_status#1008, reverse_mortgage#1009, open-end_line_of_credit#1010, business_or_commercial_purpose#1011, loan_amount#1012, loan_to_value_ratio#1013, interest_rate#1014, rate_spread#1015, hoepa_status#1016, total_loan_costs#1017, total_points_and_fees#1018, origination_charges#1019, discount_points#1020, lender_credits#1021, loan_term#1022, prepayment_penalty_term#1023, intro_rate_period#1024, negative_amortization#1025, interest_only_payment#1026, balloon_payment#1027, other_nonamortizing_features#1028, property_value#1029, construction_method#1030, occupancy_type#1031, manufactured_home_secured_property_type#1032, manufactured_home_land_property_interest#1033, total_units#1034, multifamily_affordable_units#1035, income#1036, debt_to_income_ratio#1037, applicant_credit_score_type#1038, co-applicant_credit_score_type#1039, applicant_ethnicity-1#1040, applicant_ethnicity-2#1041, applicant_ethnicity-3#1042, applicant_ethnicity-4#1043, applicant_ethnicity-5#1044, co-applicant_ethnicity-1#1045, co-applicant_ethnicity-2#1046, co-applicant_ethnicity-3#1047, co-applicant_ethnicity-4#1048, co-applicant_ethnicity-5#1049, applicant_ethnicity_observed#1050, co-applicant_ethnicity_observed#1051, applicant_race-1#1052, applicant_race-2#1053, applicant_race-3#1054, applicant_race-4#1055, applicant_race-5#1056, co-applicant_race-1#1057, co-applicant_race-2#1058, co-applicant_race-3#1059, co-applicant_race-4#1060, co-applicant_race-5#1061, applicant_race_observed#1062, co-applicant_race_observed#1063, applicant_sex#1064, co-applicant_sex#1065, applicant_sex_observed#1066, co-applicant_sex_observed#1067, applicant_age#1068, co-applicant_age#1069, applicant_age_above_62#1070, co-applicant_age_above_62#1071, submission_of_application#1072, initially_payable_to_institution#1073, aus-1#1074, aus-2#1075, aus-3#1076, aus-4#1077, aus-5#1078, denial_reason-1#1079, denial_reason-2#1080, denial_reason-3#1081, denial_reason-4#1082, tract_population#1083, tract_minority_population_percent#1084, ffiec_msa_md_median_family_income#1085, tract_to_msa_income_percentage#1086, tract_owner_occupied_units#1087, tract_one_to_four_family_homes#1088, tract_median_age_of_housing_units#1089]\n",
      "Batched: true\n",
      "Bucketed: false (disabled by query planner)\n",
      "Location: InMemoryFileIndex [hdfs://nn:9000/user/hive/warehouse/loans]\n",
      "PushedFilters: [IsNotNull(lei)]\n",
      "ReadSchema: struct<activity_year:int,lei:string,derived_msa-md:int,state_code:string,county_code:string,census_tract:string,conforming_loan_limit:string,derived_loan_product_type:string,derived_dwelling_category:string,derived_ethnicity:string,derived_race:string,derived_sex:string,action_taken:int,purchaser_type:int,preapproval:int,loan_type:int,loan_purpose:int,lien_status:int,reverse_mortgage:int,open-end_line_of_credit:int,business_or_commercial_purpose:int,loan_amount:double,loan_to_value_ratio:string,interest_rate:string,rate_spread:string,hoepa_status:int,total_loan_costs:string,total_points_and_fees:string,origination_charges:string,discount_points:string,lender_credits:string,loan_term:string,prepayment_penalty_term:string,intro_rate_period:string,negative_amortization:int,interest_only_payment:int,balloon_payment:int,other_nonamortizing_features:int,property_value:string,construction_method:int,occupancy_type:int,manufactured_home_secured_property_type:int,manufactured_home_land_property_interest:int,total_units:string,multifamily_affordable_units:string,income:string,debt_to_income_ratio:string,applicant_credit_score_type:int,co-applicant_credit_score_type:int,applicant_ethnicity-1:int,applicant_ethnicity-2:int,applicant_ethnicity-3:int,applicant_ethnicity-4:int,applicant_ethnicity-5:int,co-applicant_ethnicity-1:int,co-applicant_ethnicity-2:int,co-applicant_ethnicity-3:int,co-applicant_ethnicity-4:int,co-applicant_ethnicity-5:string,applicant_ethnicity_observed:int,co-applicant_ethnicity_observed:int,applicant_race-1:int,applicant_race-2:int,applicant_race-3:int,applicant_race-4:int,applicant_race-5:int,co-applicant_race-1:int,co-applicant_race-2:int,co-applicant_race-3:int,co-applicant_race-4:int,co-applicant_race-5:int,applicant_race_observed:int,co-applicant_race_observed:int,applicant_sex:int,co-applicant_sex:int,applicant_sex_observed:int,co-applicant_sex_observed:int,applicant_age:string,co-applicant_age:string,applicant_age_above_62:string,co-applicant_age_above_62:string,submission_of_application:int,initially_payable_to_institution:int,aus-1:int,aus-2:int,aus-3:int,aus-4:int,aus-5:int,denial_reason-1:int,denial_reason-2:int,denial_reason-3:int,denial_reason-4:int,tract_population:int,tract_minority_population_percent:double,ffiec_msa_md_median_family_income:int,tract_to_msa_income_percentage:int,tract_owner_occupied_units:int,tract_one_to_four_family_homes:int,tract_median_age_of_housing_units:int>\n",
      "\n",
      "(2) Filter\n",
      "Input [99]: [activity_year#991, lei#992, derived_msa-md#993, state_code#994, county_code#995, census_tract#996, conforming_loan_limit#997, derived_loan_product_type#998, derived_dwelling_category#999, derived_ethnicity#1000, derived_race#1001, derived_sex#1002, action_taken#1003, purchaser_type#1004, preapproval#1005, loan_type#1006, loan_purpose#1007, lien_status#1008, reverse_mortgage#1009, open-end_line_of_credit#1010, business_or_commercial_purpose#1011, loan_amount#1012, loan_to_value_ratio#1013, interest_rate#1014, rate_spread#1015, hoepa_status#1016, total_loan_costs#1017, total_points_and_fees#1018, origination_charges#1019, discount_points#1020, lender_credits#1021, loan_term#1022, prepayment_penalty_term#1023, intro_rate_period#1024, negative_amortization#1025, interest_only_payment#1026, balloon_payment#1027, other_nonamortizing_features#1028, property_value#1029, construction_method#1030, occupancy_type#1031, manufactured_home_secured_property_type#1032, manufactured_home_land_property_interest#1033, total_units#1034, multifamily_affordable_units#1035, income#1036, debt_to_income_ratio#1037, applicant_credit_score_type#1038, co-applicant_credit_score_type#1039, applicant_ethnicity-1#1040, applicant_ethnicity-2#1041, applicant_ethnicity-3#1042, applicant_ethnicity-4#1043, applicant_ethnicity-5#1044, co-applicant_ethnicity-1#1045, co-applicant_ethnicity-2#1046, co-applicant_ethnicity-3#1047, co-applicant_ethnicity-4#1048, co-applicant_ethnicity-5#1049, applicant_ethnicity_observed#1050, co-applicant_ethnicity_observed#1051, applicant_race-1#1052, applicant_race-2#1053, applicant_race-3#1054, applicant_race-4#1055, applicant_race-5#1056, co-applicant_race-1#1057, co-applicant_race-2#1058, co-applicant_race-3#1059, co-applicant_race-4#1060, co-applicant_race-5#1061, applicant_race_observed#1062, co-applicant_race_observed#1063, applicant_sex#1064, co-applicant_sex#1065, applicant_sex_observed#1066, co-applicant_sex_observed#1067, applicant_age#1068, co-applicant_age#1069, applicant_age_above_62#1070, co-applicant_age_above_62#1071, submission_of_application#1072, initially_payable_to_institution#1073, aus-1#1074, aus-2#1075, aus-3#1076, aus-4#1077, aus-5#1078, denial_reason-1#1079, denial_reason-2#1080, denial_reason-3#1081, denial_reason-4#1082, tract_population#1083, tract_minority_population_percent#1084, ffiec_msa_md_median_family_income#1085, tract_to_msa_income_percentage#1086, tract_owner_occupied_units#1087, tract_one_to_four_family_homes#1088, tract_median_age_of_housing_units#1089]\n",
      "Condition : isnotnull(lei#992)\n",
      "\n",
      "(3) Scan parquet spark_catalog.default.banks\n",
      "Output [5]: [respondent_name#65, arid_2017#66, lei_2018#67, lei_2019#68, lei_2020#69]\n",
      "Batched: true\n",
      "Location: InMemoryFileIndex [hdfs://nn:9000/user/hive/warehouse/banks]\n",
      "PushedFilters: [IsNotNull(lei_2020)]\n",
      "ReadSchema: struct<respondent_name:string,arid_2017:string,lei_2018:string,lei_2019:string,lei_2020:string>\n",
      "\n",
      "(4) Filter\n",
      "Input [5]: [respondent_name#65, arid_2017#66, lei_2018#67, lei_2019#68, lei_2020#69]\n",
      "Condition : isnotnull(lei_2020#69)\n",
      "\n",
      "(5) BroadcastExchange\n",
      "Input [5]: [respondent_name#65, arid_2017#66, lei_2018#67, lei_2019#68, lei_2020#69]\n",
      "Arguments: HashedRelationBroadcastMode(List(input[4, string, false]),false), [plan_id=609]\n",
      "\n",
      "(6) BroadcastHashJoin\n",
      "Left keys [1]: [lei#992]\n",
      "Right keys [1]: [lei_2020#69]\n",
      "Join type: Inner\n",
      "Join condition: None\n",
      "\n",
      "(7) AdaptiveSparkPlan\n",
      "Output [104]: [activity_year#991, lei#992, derived_msa-md#993, state_code#994, county_code#995, census_tract#996, conforming_loan_limit#997, derived_loan_product_type#998, derived_dwelling_category#999, derived_ethnicity#1000, derived_race#1001, derived_sex#1002, action_taken#1003, purchaser_type#1004, preapproval#1005, loan_type#1006, loan_purpose#1007, lien_status#1008, reverse_mortgage#1009, open-end_line_of_credit#1010, business_or_commercial_purpose#1011, loan_amount#1012, loan_to_value_ratio#1013, interest_rate#1014, rate_spread#1015, hoepa_status#1016, total_loan_costs#1017, total_points_and_fees#1018, origination_charges#1019, discount_points#1020, lender_credits#1021, loan_term#1022, prepayment_penalty_term#1023, intro_rate_period#1024, negative_amortization#1025, interest_only_payment#1026, balloon_payment#1027, other_nonamortizing_features#1028, property_value#1029, construction_method#1030, occupancy_type#1031, manufactured_home_secured_property_type#1032, manufactured_home_land_property_interest#1033, total_units#1034, multifamily_affordable_units#1035, income#1036, debt_to_income_ratio#1037, applicant_credit_score_type#1038, co-applicant_credit_score_type#1039, applicant_ethnicity-1#1040, applicant_ethnicity-2#1041, applicant_ethnicity-3#1042, applicant_ethnicity-4#1043, applicant_ethnicity-5#1044, co-applicant_ethnicity-1#1045, co-applicant_ethnicity-2#1046, co-applicant_ethnicity-3#1047, co-applicant_ethnicity-4#1048, co-applicant_ethnicity-5#1049, applicant_ethnicity_observed#1050, co-applicant_ethnicity_observed#1051, applicant_race-1#1052, applicant_race-2#1053, applicant_race-3#1054, applicant_race-4#1055, applicant_race-5#1056, co-applicant_race-1#1057, co-applicant_race-2#1058, co-applicant_race-3#1059, co-applicant_race-4#1060, co-applicant_race-5#1061, applicant_race_observed#1062, co-applicant_race_observed#1063, applicant_sex#1064, co-applicant_sex#1065, applicant_sex_observed#1066, co-applicant_sex_observed#1067, applicant_age#1068, co-applicant_age#1069, applicant_age_above_62#1070, co-applicant_age_above_62#1071, submission_of_application#1072, initially_payable_to_institution#1073, aus-1#1074, aus-2#1075, aus-3#1076, aus-4#1077, aus-5#1078, denial_reason-1#1079, denial_reason-2#1080, denial_reason-3#1081, denial_reason-4#1082, tract_population#1083, tract_minority_population_percent#1084, ffiec_msa_md_median_family_income#1085, tract_to_msa_income_percentage#1086, tract_owner_occupied_units#1087, tract_one_to_four_family_homes#1088, tract_median_age_of_housing_units#1089, respondent_name#65, arid_2017#66, lei_2018#67, lei_2019#68, lei_2020#69]\n",
      "Arguments: isFinalPlan=false\n",
      "\n",
      "\n"
     ]
    }
   ],
   "source": [
    "#q6\n",
    "spark.sql(\"\"\"\n",
    "SELECT *\n",
    "FROM loans\n",
    "INNER JOIN banks ON loans.lei = banks.lei_2020\n",
    "\"\"\").explain(\"formatted\")\n",
    "#6.1: The banks table.\n",
    "#6.2: No HashAggregates. The primary operation is the BroadcastHashJoin."
   ]
  },
  {
   "cell_type": "code",
   "execution_count": 17,
   "id": "02db0619-4a33-49bf-9c4c-ab3aa253ca86",
   "metadata": {},
   "outputs": [
    {
     "name": "stderr",
     "output_type": "stream",
     "text": [
      "                                                                                \r"
     ]
    }
   ],
   "source": [
    "from pyspark.sql.functions import desc\n",
    "\n",
    "wells_fargo_lei = spark.sql(\"\"\"\n",
    "    SELECT lei_2020\n",
    "    FROM banks\n",
    "    WHERE respondent_name LIKE 'Wells Fargo%'\n",
    "\"\"\").head()[\"lei_2020\"]\n",
    "\n",
    "query = \"\"\"\n",
    "    SELECT COUNTIES.NAME AS county_name, \n",
    "           AVG(loans.loan_amount) AS avg_loan_amount,\n",
    "           COUNT(loans.loan_amount) AS num_applications\n",
    "    FROM loans\n",
    "    JOIN COUNTIES ON loans.county_code = COUNTIES.STATE * 1000 + COUNTIES.COUNTY\n",
    "    WHERE loans.lei = '{}'\n",
    "    GROUP BY COUNTIES.NAME\n",
    "    ORDER BY avg_loan_amount DESC\n",
    "    LIMIT 10\n",
    "\"\"\".format(wells_fargo_lei)\n",
    "\n",
    "result = spark.sql(query).collect()\n",
    "highest_app_count = {row[\"county_name\"]: row[\"num_applications\"] for row in result}"
   ]
  },
  {
   "cell_type": "code",
   "execution_count": 18,
   "id": "fa65e8ea-4125-435a-aaa4-21ac0cb5cda8",
   "metadata": {},
   "outputs": [
    {
     "data": {
      "text/plain": [
       "{'Sawyer': 38,\n",
       " 'Door': 174,\n",
       " 'Forest': 7,\n",
       " 'Ozaukee': 389,\n",
       " 'Bayfield': 33,\n",
       " 'Waukesha': 1832,\n",
       " 'Vilas': 68,\n",
       " 'Dane': 729,\n",
       " 'Oneida': 70,\n",
       " 'Florence': 8}"
      ]
     },
     "execution_count": 18,
     "metadata": {},
     "output_type": "execute_result"
    }
   ],
   "source": [
    "#q7\n",
    "highest_app_count"
   ]
  },
  {
   "cell_type": "code",
   "execution_count": 19,
   "id": "5017422b-629b-4d31-aaea-d5753abd9ef5",
   "metadata": {},
   "outputs": [
    {
     "data": {
      "image/png": "[encoded data removed]",
      "text/plain": [
       "<Figure size 1000x600 with 1 Axes>"
      ]
     },
     "metadata": {},
     "output_type": "display_data"
    }
   ],
   "source": [
    "import matplotlib.pyplot as plt\n",
    "\n",
    "result_dict = dict(highest_app_count)\n",
    "counties = list(result_dict.keys())\n",
    "highest_count = list(result_dict.values())\n",
    "\n",
    "plt.figure(figsize=(10, 6))\n",
    "plt.bar(counties, highest_count)\n",
    "plt.xlabel('County')\n",
    "plt.ylabel('Application Count')\n",
    "plt.xticks(rotation=45, ha='right')\n",
    "\n",
    "plt.tight_layout()\n",
    "plt.show()"
   ]
  },
  {
   "cell_type": "code",
   "execution_count": 20,
   "id": "0900f069",
   "metadata": {},
   "outputs": [
    {
     "name": "stdout",
     "output_type": "stream",
     "text": [
      "== Physical Plan ==\n",
      "AdaptiveSparkPlan (4)\n",
      "+- HashAggregate (3)\n",
      "   +- HashAggregate (2)\n",
      "      +- Scan parquet spark_catalog.default.loans (1)\n",
      "\n",
      "\n",
      "(1) Scan parquet spark_catalog.default.loans\n",
      "Output [2]: [county_code#995, loan_amount#1012]\n",
      "Batched: true\n",
      "Bucketed: true\n",
      "Location: InMemoryFileIndex [hdfs://nn:9000/user/hive/warehouse/loans]\n",
      "ReadSchema: struct<county_code:string,loan_amount:double>\n",
      "SelectedBucketsCount: 8 out of 8\n",
      "\n",
      "(2) HashAggregate\n",
      "Input [2]: [county_code#995, loan_amount#1012]\n",
      "Keys [1]: [county_code#995]\n",
      "Functions [1]: [partial_avg(loan_amount#1012)]\n",
      "Aggregate Attributes [2]: [sum#1538, count#1539L]\n",
      "Results [3]: [county_code#995, sum#1540, count#1541L]\n",
      "\n",
      "(3) HashAggregate\n",
      "Input [3]: [county_code#995, sum#1540, count#1541L]\n",
      "Keys [1]: [county_code#995]\n",
      "Functions [1]: [avg(loan_amount#1012)]\n",
      "Aggregate Attributes [1]: [avg(loan_amount#1012)#1535]\n",
      "Results [2]: [county_code#995, avg(loan_amount#1012)#1535 AS avg_loan_amount#1534]\n",
      "\n",
      "(4) AdaptiveSparkPlan\n",
      "Output [2]: [county_code#995, avg_loan_amount#1534]\n",
      "Arguments: isFinalPlan=false\n",
      "\n",
      "\n"
     ]
    }
   ],
   "source": [
    "# Simple GROUP BY queries:\n",
    "spark.sql(\"\"\"\n",
    "SELECT county_code, AVG(loan_amount) AS avg_loan_amount\n",
    "FROM loans\n",
    "GROUP BY county_code\n",
    "\"\"\").explain(\"formatted\")"
   ]
  },
  {
   "cell_type": "code",
   "execution_count": 21,
   "id": "ad0072b3-e9d7-4afe-84b0-ac2151aef5aa",
   "metadata": {},
   "outputs": [
    {
     "name": "stdout",
     "output_type": "stream",
     "text": [
      "== Physical Plan ==\n",
      "AdaptiveSparkPlan (5)\n",
      "+- HashAggregate (4)\n",
      "   +- Exchange (3)\n",
      "      +- HashAggregate (2)\n",
      "         +- Scan parquet spark_catalog.default.loans (1)\n",
      "\n",
      "\n",
      "(1) Scan parquet spark_catalog.default.loans\n",
      "Output [2]: [lei#992, loan_amount#1012]\n",
      "Batched: true\n",
      "Bucketed: false (bucket column(s) not read)\n",
      "Location: InMemoryFileIndex [hdfs://nn:9000/user/hive/warehouse/loans]\n",
      "ReadSchema: struct<lei:string,loan_amount:double>\n",
      "\n",
      "(2) HashAggregate\n",
      "Input [2]: [lei#992, loan_amount#1012]\n",
      "Keys [1]: [lei#992]\n",
      "Functions [1]: [partial_avg(loan_amount#1012)]\n",
      "Aggregate Attributes [2]: [sum#1546, count#1547L]\n",
      "Results [3]: [lei#992, sum#1548, count#1549L]\n",
      "\n",
      "(3) Exchange\n",
      "Input [3]: [lei#992, sum#1548, count#1549L]\n",
      "Arguments: hashpartitioning(lei#992, 200), ENSURE_REQUIREMENTS, [plan_id=812]\n",
      "\n",
      "(4) HashAggregate\n",
      "Input [3]: [lei#992, sum#1548, count#1549L]\n",
      "Keys [1]: [lei#992]\n",
      "Functions [1]: [avg(loan_amount#1012)]\n",
      "Aggregate Attributes [1]: [avg(loan_amount#1012)#1543]\n",
      "Results [2]: [lei#992, avg(loan_amount#1012)#1543 AS avg_loan_amount#1542]\n",
      "\n",
      "(5) AdaptiveSparkPlan\n",
      "Output [2]: [lei#992, avg_loan_amount#1542]\n",
      "Arguments: isFinalPlan=false\n",
      "\n",
      "\n"
     ]
    }
   ],
   "source": [
    "spark.sql(\"\"\"\n",
    "SELECT lei, AVG(loan_amount) AS avg_loan_amount\n",
    "FROM loans\n",
    "GROUP BY lei\n",
    "\"\"\").explain(\"formatted\")"
   ]
  },
  {
   "cell_type": "code",
   "execution_count": 22,
   "id": "3a925e7b-a41d-42a3-8f84-d9249dc488ae",
   "metadata": {},
   "outputs": [],
   "source": [
    "#q8\n",
    "# Mean and Partial Mean don't require this is because the county_code is part of the same table (loans) that is stored locally in Hive.\n",
    "# However, when grouping by the lei column, network I/O might be required because lei column refers to another table (banks) that could be distributed across the cluster.\n",
    "# The partial_mean operation might be performed on different nodes, and then the mean operation needs to combine them, requiring network I/O"
   ]
  },
  {
   "cell_type": "code",
   "execution_count": 23,
   "id": "1f4c1362-ac8f-436a-9710-ec07e8e3cf6a",
   "metadata": {},
   "outputs": [],
   "source": [
    "from pyspark.sql.functions import when\n",
    "df = loans.select(col(\"loan_amount\").cast(\"double\"),\n",
    "                  col(\"income\").cast(\"double\"),\n",
    "                  col(\"interest_rate\").cast(\"double\"),\n",
    "                  when(col(\"action_taken\") == 1, 1).otherwise(0).alias(\"approval\"))"
   ]
  },
  {
   "cell_type": "code",
   "execution_count": 24,
   "id": "e40ff25b-8ba7-4b4c-aea0-41ad125ab1a9",
   "metadata": {},
   "outputs": [
    {
     "name": "stderr",
     "output_type": "stream",
     "text": [
      "                                                                                \r"
     ]
    }
   ],
   "source": [
    "df = df.na.fill(0.0)\n",
    "train, test = df.randomSplit([0.8, 0.2], seed=41)\n",
    "train.cache()\n",
    "approved_loans_count = train.filter(df.approval == 1).count()"
   ]
  },
  {
   "cell_type": "code",
   "execution_count": 25,
   "id": "c0bb3c20-fa70-415e-ac18-b508f0528e3e",
   "metadata": {},
   "outputs": [
    {
     "data": {
      "text/plain": [
       "242868"
      ]
     },
     "execution_count": 25,
     "metadata": {},
     "output_type": "execute_result"
    }
   ],
   "source": [
    "#q9\n",
    "approved_loans_count"
   ]
  },
  {
   "cell_type": "code",
   "execution_count": 26,
   "id": "836141be-fda5-4245-ac1b-2db175c01238",
   "metadata": {},
   "outputs": [],
   "source": [
    "from pyspark.ml.feature import VectorAssembler\n",
    "from pyspark.ml.classification import DecisionTreeClassifier\n",
    "from pyspark.ml.evaluation import MulticlassClassificationEvaluator"
   ]
  },
  {
   "cell_type": "code",
   "execution_count": 27,
   "id": "9c976286-62eb-4f8a-9a46-389edf3070c9",
   "metadata": {},
   "outputs": [
    {
     "name": "stderr",
     "output_type": "stream",
     "text": [
      "                                                                                \r"
     ]
    }
   ],
   "source": [
    "feature_cols = [\"loan_amount\", \"income\", \"interest_rate\"]\n",
    "assembler = VectorAssembler(inputCols=feature_cols, outputCol=\"features\")\n",
    "\n",
    "train_assembled = assembler.transform(train)\n",
    "test_assembled = assembler.transform(test)\n",
    "\n",
    "dt = DecisionTreeClassifier(labelCol=\"approval\", featuresCol=\"features\", maxDepth=5)\n",
    "\n",
    "dt_model = dt.fit(train_assembled)\n",
    "\n",
    "predictions = dt_model.transform(test_assembled)\n",
    "\n",
    "evaluator = MulticlassClassificationEvaluator(labelCol=\"approval\", predictionCol=\"prediction\", metricName=\"accuracy\")\n",
    "accuracy = evaluator.evaluate(predictions)"
   ]
  },
  {
   "cell_type": "code",
   "execution_count": 28,
   "id": "57dabded-f175-4e72-ad86-3ed6afdb2f4c",
   "metadata": {},
   "outputs": [
    {
     "data": {
      "text/plain": [
       "0.8931199145137413"
      ]
     },
     "execution_count": 28,
     "metadata": {},
     "output_type": "execute_result"
    }
   ],
   "source": [
    "#q10\n",
    "accuracy"
   ]
  }
 ],
 "metadata": {
  "kernelspec": {
   "display_name": "Python 3 (ipykernel)",
   "language": "python",
   "name": "python3"
  },
  "language_info": {
   "codemirror_mode": {
    "name": "ipython",
    "version": 3
   },
   "file_extension": ".py",
   "mimetype": "text/x-python",
   "name": "python",
   "nbconvert_exporter": "python",
   "pygments_lexer": "ipython3",
   "version": "3.10.12"
  }
 },
 "nbformat": 4,
 "nbformat_minor": 5
}
